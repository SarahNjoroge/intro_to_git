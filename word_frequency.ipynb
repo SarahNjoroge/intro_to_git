{
 "cells": [
  {
   "cell_type": "code",
   "execution_count": 9,
   "id": "c329554c-be28-422b-945e-69017c88d876",
   "metadata": {},
   "outputs": [
    {
     "name": "stdin",
     "output_type": "stream",
     "text": [
      "Enter text Be nice everyday\n"
     ]
    },
    {
     "name": "stdout",
     "output_type": "stream",
     "text": [
      "{'Be': 1, 'nice': 1, 'everyday': 1}\n"
     ]
    }
   ],
   "source": [
    "def main():\n",
    "    words = input(\"Enter text\").split()\n",
    "    word_frequencies = {}\n",
    "    for word in words:\n",
    "        word_frequencies[word]=word_frequencies.get(word,0) +1\n",
    "\n",
    "    print(word_frequencies)\n",
    "\n",
    "if __name__ == \"__main__\":\n",
    "    main()"
   ]
  },
  {
   "cell_type": "code",
   "execution_count": 7,
   "id": "eb5b5e98-a705-4fc5-a454-9469daa352e5",
   "metadata": {},
   "outputs": [],
   "source": [
    "### you are welcome to change it"
   ]
  },
  {
   "cell_type": "code",
   "execution_count": 11,
   "id": "bc080e36-5830-425f-8c41-f47f13b16040",
   "metadata": {},
   "outputs": [
    {
     "name": "stdin",
     "output_type": "stream",
     "text": [
      "Enter text I know you\n"
     ]
    },
    {
     "name": "stdout",
     "output_type": "stream",
     "text": [
      "{'I': 1, 'know': 1, 'you': 1}\n"
     ]
    }
   ],
   "source": [
    "example_2 = main()\n"
   ]
  },
  {
   "cell_type": "code",
   "execution_count": null,
   "id": "39b5acd5-b4f1-4fac-a715-dead8819f994",
   "metadata": {},
   "outputs": [],
   "source": []
  }
 ],
 "metadata": {
  "kernelspec": {
   "display_name": "Python 3 (ipykernel)",
   "language": "python",
   "name": "python3"
  },
  "language_info": {
   "codemirror_mode": {
    "name": "ipython",
    "version": 3
   },
   "file_extension": ".py",
   "mimetype": "text/x-python",
   "name": "python",
   "nbconvert_exporter": "python",
   "pygments_lexer": "ipython3",
   "version": "3.11.7"
  }
 },
 "nbformat": 4,
 "nbformat_minor": 5
}
